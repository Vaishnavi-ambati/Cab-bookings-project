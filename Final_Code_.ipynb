{
 "cells": [
  {
   "cell_type": "markdown",
   "metadata": {},
   "source": [
    "# ---Importing libraries---"
   ]
  },
  {
   "cell_type": "code",
   "execution_count": 1,
   "metadata": {},
   "outputs": [],
   "source": [
    "import pandas as pd\n",
    "import numpy as np\n",
    "import seaborn as sns\n",
    "import matplotlib.pyplot as plt\n",
    "import calendar\n",
    "import datetime\n",
    "import warnings\n",
    "warnings.filterwarnings('ignore')\n",
    "\n",
    "from sklearn import model_selection\n",
    "from sklearn.metrics import accuracy_score\n",
    "from sklearn.linear_model import LogisticRegression\n",
    "from sklearn.tree import DecisionTreeClassifier\n",
    "from sklearn.neighbors import KNeighborsClassifier\n",
    "from sklearn.discriminant_analysis import LinearDiscriminantAnalysis\n",
    "from sklearn.naive_bayes import GaussianNB\n",
    "from sklearn.svm import SVC\n",
    "from sklearn.linear_model import LinearRegression\n",
    "from sklearn.ensemble import RandomForestClassifier\n",
    "from sklearn.metrics import mean_squared_error, r2_score\n",
    "from sklearn.ensemble import ExtraTreesClassifier\n",
    "from sklearn import preprocessing\n",
    "from sklearn.ensemble import AdaBoostRegressor\n",
    "from sklearn.model_selection import cross_val_score\n",
    "from sklearn.model_selection import KFold\n",
    "from sklearn.model_selection import GridSearchCV\n",
    "import sklearn as sklearn"
   ]
  },
  {
   "cell_type": "markdown",
   "metadata": {},
   "source": [
    "# ---Reading Datasets---"
   ]
  },
  {
   "cell_type": "code",
   "execution_count": 2,
   "metadata": {},
   "outputs": [],
   "source": [
    "train=pd.read_csv('train.csv')\n",
    "clm=['Total_booking']\n",
    "train_labels=pd.read_csv('train_label.csv',names=clm)"
   ]
  },
  {
   "cell_type": "code",
   "execution_count": 3,
   "metadata": {},
   "outputs": [],
   "source": [
    "test = pd.read_csv('test.csv')\n",
    "test['datetime']=test['datetime'].apply(lambda x:datetime.datetime.strptime(x,'%m/%d/%Y %H:%M'))"
   ]
  },
  {
   "cell_type": "markdown",
   "metadata": {},
   "source": [
    "# ---Adding target column--- "
   ]
  },
  {
   "cell_type": "code",
   "execution_count": 4,
   "metadata": {},
   "outputs": [
    {
     "data": {
      "text/html": [
       "<div>\n",
       "<style scoped>\n",
       "    .dataframe tbody tr th:only-of-type {\n",
       "        vertical-align: middle;\n",
       "    }\n",
       "\n",
       "    .dataframe tbody tr th {\n",
       "        vertical-align: top;\n",
       "    }\n",
       "\n",
       "    .dataframe thead th {\n",
       "        text-align: right;\n",
       "    }\n",
       "</style>\n",
       "<table border=\"1\" class=\"dataframe\">\n",
       "  <thead>\n",
       "    <tr style=\"text-align: right;\">\n",
       "      <th></th>\n",
       "      <th>datetime</th>\n",
       "      <th>season</th>\n",
       "      <th>holiday</th>\n",
       "      <th>workingday</th>\n",
       "      <th>weather</th>\n",
       "      <th>temp</th>\n",
       "      <th>atemp</th>\n",
       "      <th>humidity</th>\n",
       "      <th>windspeed</th>\n",
       "      <th>Total_booking</th>\n",
       "    </tr>\n",
       "  </thead>\n",
       "  <tbody>\n",
       "    <tr>\n",
       "      <th>0</th>\n",
       "      <td>5/2/2012 19:00</td>\n",
       "      <td>Summer</td>\n",
       "      <td>0</td>\n",
       "      <td>1</td>\n",
       "      <td>Clear + Few clouds</td>\n",
       "      <td>22.14</td>\n",
       "      <td>25.760</td>\n",
       "      <td>77</td>\n",
       "      <td>16.9979</td>\n",
       "      <td>504</td>\n",
       "    </tr>\n",
       "    <tr>\n",
       "      <th>1</th>\n",
       "      <td>9/5/2012 4:00</td>\n",
       "      <td>Fall</td>\n",
       "      <td>0</td>\n",
       "      <td>1</td>\n",
       "      <td>Clear + Few clouds</td>\n",
       "      <td>28.70</td>\n",
       "      <td>33.335</td>\n",
       "      <td>79</td>\n",
       "      <td>19.0012</td>\n",
       "      <td>5</td>\n",
       "    </tr>\n",
       "    <tr>\n",
       "      <th>2</th>\n",
       "      <td>1/13/2011 9:00</td>\n",
       "      <td>Spring</td>\n",
       "      <td>0</td>\n",
       "      <td>1</td>\n",
       "      <td>Clear + Few clouds</td>\n",
       "      <td>5.74</td>\n",
       "      <td>6.060</td>\n",
       "      <td>50</td>\n",
       "      <td>22.0028</td>\n",
       "      <td>139</td>\n",
       "    </tr>\n",
       "    <tr>\n",
       "      <th>3</th>\n",
       "      <td>11/18/2011 16:00</td>\n",
       "      <td>Winter</td>\n",
       "      <td>0</td>\n",
       "      <td>1</td>\n",
       "      <td>Clear + Few clouds</td>\n",
       "      <td>13.94</td>\n",
       "      <td>16.665</td>\n",
       "      <td>29</td>\n",
       "      <td>8.9981</td>\n",
       "      <td>209</td>\n",
       "    </tr>\n",
       "    <tr>\n",
       "      <th>4</th>\n",
       "      <td>9/13/2011 13:00</td>\n",
       "      <td>Fall</td>\n",
       "      <td>0</td>\n",
       "      <td>1</td>\n",
       "      <td>Clear + Few clouds</td>\n",
       "      <td>30.34</td>\n",
       "      <td>33.335</td>\n",
       "      <td>51</td>\n",
       "      <td>19.0012</td>\n",
       "      <td>184</td>\n",
       "    </tr>\n",
       "  </tbody>\n",
       "</table>\n",
       "</div>"
      ],
      "text/plain": [
       "           datetime  season  holiday  workingday              weather   temp  \\\n",
       "0    5/2/2012 19:00  Summer        0           1   Clear + Few clouds  22.14   \n",
       "1     9/5/2012 4:00    Fall        0           1   Clear + Few clouds  28.70   \n",
       "2    1/13/2011 9:00  Spring        0           1   Clear + Few clouds   5.74   \n",
       "3  11/18/2011 16:00  Winter        0           1   Clear + Few clouds  13.94   \n",
       "4   9/13/2011 13:00    Fall        0           1   Clear + Few clouds  30.34   \n",
       "\n",
       "    atemp  humidity  windspeed  Total_booking  \n",
       "0  25.760        77    16.9979            504  \n",
       "1  33.335        79    19.0012              5  \n",
       "2   6.060        50    22.0028            139  \n",
       "3  16.665        29     8.9981            209  \n",
       "4  33.335        51    19.0012            184  "
      ]
     },
     "execution_count": 4,
     "metadata": {},
     "output_type": "execute_result"
    }
   ],
   "source": [
    "train=pd.concat([train, train_labels], axis = 1)\n",
    "train.head()"
   ]
  },
  {
   "cell_type": "markdown",
   "metadata": {},
   "source": [
    "# ---Changing type of date column---"
   ]
  },
  {
   "cell_type": "code",
   "execution_count": 5,
   "metadata": {},
   "outputs": [
    {
     "data": {
      "text/html": [
       "<div>\n",
       "<style scoped>\n",
       "    .dataframe tbody tr th:only-of-type {\n",
       "        vertical-align: middle;\n",
       "    }\n",
       "\n",
       "    .dataframe tbody tr th {\n",
       "        vertical-align: top;\n",
       "    }\n",
       "\n",
       "    .dataframe thead th {\n",
       "        text-align: right;\n",
       "    }\n",
       "</style>\n",
       "<table border=\"1\" class=\"dataframe\">\n",
       "  <thead>\n",
       "    <tr style=\"text-align: right;\">\n",
       "      <th></th>\n",
       "      <th>datetime</th>\n",
       "      <th>season</th>\n",
       "      <th>holiday</th>\n",
       "      <th>workingday</th>\n",
       "      <th>weather</th>\n",
       "      <th>temp</th>\n",
       "      <th>atemp</th>\n",
       "      <th>humidity</th>\n",
       "      <th>windspeed</th>\n",
       "      <th>Total_booking</th>\n",
       "    </tr>\n",
       "  </thead>\n",
       "  <tbody>\n",
       "    <tr>\n",
       "      <th>0</th>\n",
       "      <td>2012-05-02 19:00:00</td>\n",
       "      <td>Summer</td>\n",
       "      <td>0</td>\n",
       "      <td>1</td>\n",
       "      <td>Clear + Few clouds</td>\n",
       "      <td>22.14</td>\n",
       "      <td>25.760</td>\n",
       "      <td>77</td>\n",
       "      <td>16.9979</td>\n",
       "      <td>504</td>\n",
       "    </tr>\n",
       "    <tr>\n",
       "      <th>1</th>\n",
       "      <td>2012-09-05 04:00:00</td>\n",
       "      <td>Fall</td>\n",
       "      <td>0</td>\n",
       "      <td>1</td>\n",
       "      <td>Clear + Few clouds</td>\n",
       "      <td>28.70</td>\n",
       "      <td>33.335</td>\n",
       "      <td>79</td>\n",
       "      <td>19.0012</td>\n",
       "      <td>5</td>\n",
       "    </tr>\n",
       "    <tr>\n",
       "      <th>2</th>\n",
       "      <td>2011-01-13 09:00:00</td>\n",
       "      <td>Spring</td>\n",
       "      <td>0</td>\n",
       "      <td>1</td>\n",
       "      <td>Clear + Few clouds</td>\n",
       "      <td>5.74</td>\n",
       "      <td>6.060</td>\n",
       "      <td>50</td>\n",
       "      <td>22.0028</td>\n",
       "      <td>139</td>\n",
       "    </tr>\n",
       "    <tr>\n",
       "      <th>3</th>\n",
       "      <td>2011-11-18 16:00:00</td>\n",
       "      <td>Winter</td>\n",
       "      <td>0</td>\n",
       "      <td>1</td>\n",
       "      <td>Clear + Few clouds</td>\n",
       "      <td>13.94</td>\n",
       "      <td>16.665</td>\n",
       "      <td>29</td>\n",
       "      <td>8.9981</td>\n",
       "      <td>209</td>\n",
       "    </tr>\n",
       "    <tr>\n",
       "      <th>4</th>\n",
       "      <td>2011-09-13 13:00:00</td>\n",
       "      <td>Fall</td>\n",
       "      <td>0</td>\n",
       "      <td>1</td>\n",
       "      <td>Clear + Few clouds</td>\n",
       "      <td>30.34</td>\n",
       "      <td>33.335</td>\n",
       "      <td>51</td>\n",
       "      <td>19.0012</td>\n",
       "      <td>184</td>\n",
       "    </tr>\n",
       "  </tbody>\n",
       "</table>\n",
       "</div>"
      ],
      "text/plain": [
       "             datetime  season  holiday  workingday              weather  \\\n",
       "0 2012-05-02 19:00:00  Summer        0           1   Clear + Few clouds   \n",
       "1 2012-09-05 04:00:00    Fall        0           1   Clear + Few clouds   \n",
       "2 2011-01-13 09:00:00  Spring        0           1   Clear + Few clouds   \n",
       "3 2011-11-18 16:00:00  Winter        0           1   Clear + Few clouds   \n",
       "4 2011-09-13 13:00:00    Fall        0           1   Clear + Few clouds   \n",
       "\n",
       "    temp   atemp  humidity  windspeed  Total_booking  \n",
       "0  22.14  25.760        77    16.9979            504  \n",
       "1  28.70  33.335        79    19.0012              5  \n",
       "2   5.74   6.060        50    22.0028            139  \n",
       "3  13.94  16.665        29     8.9981            209  \n",
       "4  30.34  33.335        51    19.0012            184  "
      ]
     },
     "execution_count": 5,
     "metadata": {},
     "output_type": "execute_result"
    }
   ],
   "source": [
    "#We cannot work with 'Datetime' column in string format. So, changing the datetime column into datetime format will solve the problem\n",
    "train['datetime']=train['datetime'].apply(lambda x:datetime.datetime.strptime(x,'%m/%d/%Y %H:%M'))\n",
    "train.head()"
   ]
  },
  {
   "cell_type": "code",
   "execution_count": 6,
   "metadata": {
    "scrolled": true
   },
   "outputs": [
    {
     "data": {
      "text/html": [
       "<div>\n",
       "<style scoped>\n",
       "    .dataframe tbody tr th:only-of-type {\n",
       "        vertical-align: middle;\n",
       "    }\n",
       "\n",
       "    .dataframe tbody tr th {\n",
       "        vertical-align: top;\n",
       "    }\n",
       "\n",
       "    .dataframe thead th {\n",
       "        text-align: right;\n",
       "    }\n",
       "</style>\n",
       "<table border=\"1\" class=\"dataframe\">\n",
       "  <thead>\n",
       "    <tr style=\"text-align: right;\">\n",
       "      <th></th>\n",
       "      <th>datetime</th>\n",
       "      <th>season</th>\n",
       "      <th>holiday</th>\n",
       "      <th>workingday</th>\n",
       "      <th>weather</th>\n",
       "      <th>temp</th>\n",
       "      <th>atemp</th>\n",
       "      <th>humidity</th>\n",
       "      <th>windspeed</th>\n",
       "      <th>Total_booking</th>\n",
       "    </tr>\n",
       "  </thead>\n",
       "  <tbody>\n",
       "    <tr>\n",
       "      <th>0</th>\n",
       "      <td>2012-05-02 19:00:00</td>\n",
       "      <td>Summer</td>\n",
       "      <td>0</td>\n",
       "      <td>1</td>\n",
       "      <td>Clear + Few clouds</td>\n",
       "      <td>22.14</td>\n",
       "      <td>25.760</td>\n",
       "      <td>77</td>\n",
       "      <td>16.9979</td>\n",
       "      <td>504</td>\n",
       "    </tr>\n",
       "    <tr>\n",
       "      <th>1</th>\n",
       "      <td>2012-09-05 04:00:00</td>\n",
       "      <td>Fall</td>\n",
       "      <td>0</td>\n",
       "      <td>1</td>\n",
       "      <td>Clear + Few clouds</td>\n",
       "      <td>28.70</td>\n",
       "      <td>33.335</td>\n",
       "      <td>79</td>\n",
       "      <td>19.0012</td>\n",
       "      <td>5</td>\n",
       "    </tr>\n",
       "  </tbody>\n",
       "</table>\n",
       "</div>"
      ],
      "text/plain": [
       "             datetime  season  holiday  workingday              weather  \\\n",
       "0 2012-05-02 19:00:00  Summer        0           1   Clear + Few clouds   \n",
       "1 2012-09-05 04:00:00    Fall        0           1   Clear + Few clouds   \n",
       "\n",
       "    temp   atemp  humidity  windspeed  Total_booking  \n",
       "0  22.14  25.760        77    16.9979            504  \n",
       "1  28.70  33.335        79    19.0012              5  "
      ]
     },
     "execution_count": 6,
     "metadata": {},
     "output_type": "execute_result"
    }
   ],
   "source": [
    "# raw_data set is the pre-processed data.Using raw_data set for running models. \n",
    "raw_data=train.copy()\n",
    "raw_data.head(2)"
   ]
  },
  {
   "cell_type": "markdown",
   "metadata": {},
   "source": [
    "# ---Checking datatypes and unique values of columns---"
   ]
  },
  {
   "cell_type": "code",
   "execution_count": 5,
   "metadata": {},
   "outputs": [
    {
     "data": {
      "text/plain": [
       "datetime         datetime64[ns]\n",
       "season                   object\n",
       "holiday                   int64\n",
       "workingday                int64\n",
       "weather                  object\n",
       "temp                    float64\n",
       "atemp                   float64\n",
       "humidity                  int64\n",
       "windspeed               float64\n",
       "Total_booking             int64\n",
       "dtype: object"
      ]
     },
     "execution_count": 5,
     "metadata": {},
     "output_type": "execute_result"
    }
   ],
   "source": [
    "train.dtypes"
   ]
  },
  {
   "cell_type": "code",
   "execution_count": 6,
   "metadata": {
    "scrolled": true
   },
   "outputs": [
    {
     "name": "stdout",
     "output_type": "stream",
     "text": [
      "datetime:\n",
      "['2012-05-02T19:00:00.000000000' '2012-09-05T04:00:00.000000000'\n",
      " '2011-01-13T09:00:00.000000000' ... '2011-04-12T03:00:00.000000000'\n",
      " '2012-11-07T01:00:00.000000000' '2011-01-10T10:00:00.000000000']\n",
      "-----------------------------------------------------\n",
      "season:\n",
      "['Summer' 'Fall' 'Spring' 'Winter']\n",
      "-----------------------------------------------------\n",
      "holiday:\n",
      "[0 1]\n",
      "-----------------------------------------------------\n",
      "workingday:\n",
      "[1 0]\n",
      "-----------------------------------------------------\n",
      "weather:\n",
      "[' Clear + Few clouds' ' Light Snow, Light Rain' ' Mist + Cloudy '\n",
      " ' Heavy Rain + Thunderstorm ']\n",
      "-----------------------------------------------------\n",
      "temp:\n",
      "[22.14 28.7   5.74 13.94 30.34 33.62 24.6  21.32 27.06 12.3  18.04 18.86\n",
      " 25.42 13.12 22.96 26.24 17.22 27.88 36.9  29.52 31.16 10.66 31.98 15.58\n",
      "  6.56 19.68 16.4  14.76  9.02 32.8  11.48 20.5   9.84  8.2   7.38 23.78\n",
      " 35.26 37.72  3.28  4.1  36.08  1.64  4.92 34.44  0.82  2.46 38.54 39.36\n",
      " 41.  ]\n",
      "-----------------------------------------------------\n",
      "atemp:\n",
      "[25.76  33.335  6.06  16.665 12.12  29.545 25.    31.06  15.15  21.97\n",
      " 22.725 30.305 26.515 21.21  31.82  39.395 34.85  35.605 18.18  19.695\n",
      " 36.365  8.335 32.575 23.485 20.455 34.09  17.425 11.365 14.395 24.24\n",
      " 13.635 12.88  28.79  15.91   7.575 18.94  37.12  10.605 37.88   9.09\n",
      " 27.275 40.91  42.425 38.635 28.03   5.305  9.85   3.79   6.82  40.15\n",
      "  1.515 41.665 43.94   3.03  43.18   4.545  0.76   2.275 44.695 45.455]\n",
      "-----------------------------------------------------\n",
      "humidity:\n",
      "[ 77  79  50  29  51  36  73  68  61  56  62  40  38  39  65  27  88  74\n",
      "  93  82  41  49  55  83  80  94  35  48 100  44  33  81  63  75  43  69\n",
      "  37  47  23  52  45  58  87  64  25  60  32  67  86  72  53  89  78  66\n",
      "  54  42  31  70  26  30  46  59  28  71  76  57  84  16  21  34  24  85\n",
      "  91  20  18   0  19  15  13  22   8  90  92  12  14  17  96  10]\n",
      "-----------------------------------------------------\n",
      "windspeed:\n",
      "[16.9979 19.0012 22.0028  8.9981 12.998   7.0015 11.0014 32.9975 26.0027\n",
      " 15.0013 19.9995  6.0032  0.     31.0009 23.9994 36.9974 35.0008 27.9993\n",
      " 30.0026 47.9988 39.0007 43.9989 43.0006 56.9969 40.9973 46.0022 51.9987\n",
      " 50.0021]\n",
      "-----------------------------------------------------\n",
      "Total_booking:\n",
      "[504   5 139 209 184 791 395   9  78 129 390 221 357 144  68 647 272 302\n",
      "  16 556 213 224 329 100 396 813  61 187 872 196 176  93 223 270 266 124\n",
      "  35 507 180  66 135 311  20 331 316  56 172 595 317 790   8  19  12 542\n",
      "  95 192 428 257 353 114  77  11 512 159  21 669   6 435  98   7 167 269\n",
      " 635 181 199 712 415  46  79 372  31  10  51 596 121 235 136 354 126  49\n",
      " 291 371 672 290 330   4 408 653 112 168 327 355 306 252 232 105 267  43\n",
      " 273  33 662  22 113   3 729 143  69  32  94  73 214 202 456  62 145 501\n",
      " 309 245 319 783 406 686  14 480  27 263 483 320 229  13  52 360 391 283\n",
      " 178   1   2  88 109  29 127  72 141  96 268  25 514  89  41 475 103 470\n",
      "  28 296 110 284  71 149 152  90  75 325 566  92 414 116  82 260  34 358\n",
      " 206 147  70 677 190 550 162 593  59 107 312 328 757 383 197 174  15 164\n",
      "  26 173 201 188 280 108 362 478  91 106 498 193 624 351  97  67 374  87\n",
      " 157 389 101 490 276 241 359 165 409  48 447 305 158 367 770 421 335 349\n",
      " 459 278 749 392 170 407 198 288 364 287 293  74  18 499 122  24 140 292\n",
      " 300 185 138 310 177 579 399 370 568 437  53 134 516 361 289 333 626 301\n",
      " 154 262 386 585 233 125 150 119 429 120  60 502 242  84 275  65 211  40\n",
      " 200  17 356 448 156 544 505 294  45  55 425 943 377 236 474 207 472 304\n",
      " 286  39 137 580 487 432 546 285 318 133 264 543  47  30 417 234 496 215\n",
      " 702 977 445  38 375 298 130 482 449 347 205 243 118  36 555 261  64 668\n",
      " 253 348 578 657 541 563  37 517 271 259 182 179 203  99  83  42 222 615\n",
      " 551 411  86 365 431  57 338 493 682 321 479 559 151 111  23 382 387 486\n",
      " 617  85 244 526 717 398 281 171 457 226 454 219 265 166 128 592 441  76\n",
      " 204 583 530 366 323 324 225 117 175 341 274 230 115 208 394 210 567 132\n",
      " 397 522 189 326 744 153 436  54  50 564 570 492 468 500 104 772 247 195\n",
      " 218 131 463 604 721 102 560 369 160 865 363 539 706 725 249 376 228 239\n",
      " 313 400 169 194 446 299 416 220 611 191 649 246 424 250 594 488 148  63\n",
      " 873 282 705 337 279 900 659 642 336 142 240 368 814 123 381 231 561 687\n",
      " 655  80 733 344 258  44 823 345 607 256 730 584 641 334 442 627 868 314\n",
      " 618 520 346 183 420 738 332 373 562 379 643 342 844 569 378 473 251 444\n",
      " 352 343 303 295 477 527 186 524 471 497 216 254 623 308 573 887 452 715\n",
      " 671 746 307 679 619 536 438 212 545 339 831 412 565 644 481 401  81 684\n",
      " 461 553 451 719 812 601 525 704 681 540 155 680 255 237 582 785 737 801\n",
      " 146 315 248 620 453 897 600 402 418 427 297 745 640 350 576 434 747 322\n",
      " 523 856 503 633 388 581 558 410 384 385 450 217 650 554 419 614 603 404\n",
      " 455 867 613 238 485 637 646 631 835 513 469 598 610 810 227 710 676 863\n",
      " 534 489 666 462 277 380 698 413 622 894  58 393 654 692 748 739 405 430\n",
      " 651 423 531 163 925 850 708 557 532 771 792 458 839 467 743 869 484 465\n",
      " 439 577 460 426 776 495 466 511 509 464 538 586 161 968 678 629 822 340\n",
      " 886 443 711 433 571 521 858 663 884 547 552 630 665 656 508 632 689 782\n",
      " 694 713 825 591 842 528 723 891 572 652 491 673 476 515 616 440 519 588\n",
      " 851 852 767 917 587 843 589 948 590 848 795 854 794 690 674 759 639 605\n",
      " 670 800 806 537 533 779 693 638 701 837 832 769 549 645 774 597 575 634\n",
      " 612 602 658 793 784 811 808 892 788 819 890 817 797 628 766 877 506 606\n",
      " 857 422 862 731 696 660 518 494 683 871 599 688 667 661 818 834 700 830\n",
      " 761 529 970 608 827]\n",
      "-----------------------------------------------------\n"
     ]
    }
   ],
   "source": [
    "#Unique Values\n",
    "columns=train.columns\n",
    "for clm in columns:\n",
    "    u=train[clm].unique()\n",
    "    print(clm+':')\n",
    "    print(u)\n",
    "    print('-----------------------------------------------------')"
   ]
  },
  {
   "cell_type": "markdown",
   "metadata": {},
   "source": [
    "# ---Missing value analysis---"
   ]
  },
  {
   "cell_type": "code",
   "execution_count": 7,
   "metadata": {},
   "outputs": [
    {
     "data": {
      "text/plain": [
       "datetime         False\n",
       "season           False\n",
       "holiday          False\n",
       "workingday       False\n",
       "weather          False\n",
       "temp             False\n",
       "atemp            False\n",
       "humidity         False\n",
       "windspeed        False\n",
       "Total_booking    False\n",
       "dtype: bool"
      ]
     },
     "execution_count": 7,
     "metadata": {},
     "output_type": "execute_result"
    }
   ],
   "source": [
    "pd.isnull(train).any()\n",
    "\n",
    "#If You observe the output and the Graph below, there are no null values in the dataset."
   ]
  },
  {
   "cell_type": "code",
   "execution_count": 10,
   "metadata": {},
   "outputs": [
    {
     "data": {
      "image/png": "[encoded data removed]",
      "text/plain": [
       "<Figure size 648x360 with 1 Axes>"
      ]
     },
     "metadata": {
      "needs_background": "light"
     },
     "output_type": "display_data"
    }
   ],
   "source": [
    "fig, ax = plt.subplots(figsize=(9,5))\n",
    "sns.heatmap(train.isnull(), cbar=False, cmap=\"YlGnBu_r\")\n",
    "plt.show()"
   ]
  },
  {
   "cell_type": "markdown",
   "metadata": {},
   "source": [
    "### We can observe from above information and graph that there are no missing values. "
   ]
  },
  {
   "cell_type": "markdown",
   "metadata": {},
   "source": [
    "# ---Understanding Data---"
   ]
  },
  {
   "cell_type": "code",
   "execution_count": 11,
   "metadata": {},
   "outputs": [
    {
     "data": {
      "text/html": [
       "<div>\n",
       "<style scoped>\n",
       "    .dataframe tbody tr th:only-of-type {\n",
       "        vertical-align: middle;\n",
       "    }\n",
       "\n",
       "    .dataframe tbody tr th {\n",
       "        vertical-align: top;\n",
       "    }\n",
       "\n",
       "    .dataframe thead th {\n",
       "        text-align: right;\n",
       "    }\n",
       "</style>\n",
       "<table border=\"1\" class=\"dataframe\">\n",
       "  <thead>\n",
       "    <tr style=\"text-align: right;\">\n",
       "      <th></th>\n",
       "      <th>holiday</th>\n",
       "      <th>workingday</th>\n",
       "      <th>temp</th>\n",
       "      <th>atemp</th>\n",
       "      <th>humidity</th>\n",
       "      <th>windspeed</th>\n",
       "      <th>Total_booking</th>\n",
       "    </tr>\n",
       "  </thead>\n",
       "  <tbody>\n",
       "    <tr>\n",
       "      <th>count</th>\n",
       "      <td>8708.000000</td>\n",
       "      <td>8708.000000</td>\n",
       "      <td>8708.000000</td>\n",
       "      <td>8708.000000</td>\n",
       "      <td>8708.000000</td>\n",
       "      <td>8708.000000</td>\n",
       "      <td>8708.000000</td>\n",
       "    </tr>\n",
       "    <tr>\n",
       "      <th>mean</th>\n",
       "      <td>0.028480</td>\n",
       "      <td>0.680294</td>\n",
       "      <td>20.243020</td>\n",
       "      <td>23.655552</td>\n",
       "      <td>61.649173</td>\n",
       "      <td>12.843891</td>\n",
       "      <td>193.007005</td>\n",
       "    </tr>\n",
       "    <tr>\n",
       "      <th>std</th>\n",
       "      <td>0.166348</td>\n",
       "      <td>0.466389</td>\n",
       "      <td>7.813494</td>\n",
       "      <td>8.501107</td>\n",
       "      <td>19.199578</td>\n",
       "      <td>8.190314</td>\n",
       "      <td>181.552211</td>\n",
       "    </tr>\n",
       "    <tr>\n",
       "      <th>min</th>\n",
       "      <td>0.000000</td>\n",
       "      <td>0.000000</td>\n",
       "      <td>0.820000</td>\n",
       "      <td>0.760000</td>\n",
       "      <td>0.000000</td>\n",
       "      <td>0.000000</td>\n",
       "      <td>1.000000</td>\n",
       "    </tr>\n",
       "    <tr>\n",
       "      <th>25%</th>\n",
       "      <td>0.000000</td>\n",
       "      <td>0.000000</td>\n",
       "      <td>13.940000</td>\n",
       "      <td>16.665000</td>\n",
       "      <td>46.000000</td>\n",
       "      <td>7.001500</td>\n",
       "      <td>43.000000</td>\n",
       "    </tr>\n",
       "    <tr>\n",
       "      <th>50%</th>\n",
       "      <td>0.000000</td>\n",
       "      <td>1.000000</td>\n",
       "      <td>20.500000</td>\n",
       "      <td>24.240000</td>\n",
       "      <td>61.000000</td>\n",
       "      <td>12.998000</td>\n",
       "      <td>148.000000</td>\n",
       "    </tr>\n",
       "    <tr>\n",
       "      <th>75%</th>\n",
       "      <td>0.000000</td>\n",
       "      <td>1.000000</td>\n",
       "      <td>26.240000</td>\n",
       "      <td>31.060000</td>\n",
       "      <td>77.000000</td>\n",
       "      <td>16.997900</td>\n",
       "      <td>286.000000</td>\n",
       "    </tr>\n",
       "    <tr>\n",
       "      <th>max</th>\n",
       "      <td>1.000000</td>\n",
       "      <td>1.000000</td>\n",
       "      <td>41.000000</td>\n",
       "      <td>45.455000</td>\n",
       "      <td>100.000000</td>\n",
       "      <td>56.996900</td>\n",
       "      <td>977.000000</td>\n",
       "    </tr>\n",
       "  </tbody>\n",
       "</table>\n",
       "</div>"
      ],
      "text/plain": [
       "           holiday   workingday         temp        atemp     humidity  \\\n",
       "count  8708.000000  8708.000000  8708.000000  8708.000000  8708.000000   \n",
       "mean      0.028480     0.680294    20.243020    23.655552    61.649173   \n",
       "std       0.166348     0.466389     7.813494     8.501107    19.199578   \n",
       "min       0.000000     0.000000     0.820000     0.760000     0.000000   \n",
       "25%       0.000000     0.000000    13.940000    16.665000    46.000000   \n",
       "50%       0.000000     1.000000    20.500000    24.240000    61.000000   \n",
       "75%       0.000000     1.000000    26.240000    31.060000    77.000000   \n",
       "max       1.000000     1.000000    41.000000    45.455000   100.000000   \n",
       "\n",
       "         windspeed  Total_booking  \n",
       "count  8708.000000    8708.000000  \n",
       "mean     12.843891     193.007005  \n",
       "std       8.190314     181.552211  \n",
       "min       0.000000       1.000000  \n",
       "25%       7.001500      43.000000  \n",
       "50%      12.998000     148.000000  \n",
       "75%      16.997900     286.000000  \n",
       "max      56.996900     977.000000  "
      ]
     },
     "execution_count": 11,
     "metadata": {},
     "output_type": "execute_result"
    }
   ],
   "source": [
    "train.describe()"
   ]
  },
  {
   "cell_type": "markdown",
   "metadata": {},
   "source": [
    "#### Things observed:\n",
    "        * No missing values\n",
    "        * Outliers in many columns"
   ]
  },
  {
   "cell_type": "markdown",
   "metadata": {},
   "source": [
    "# ---Visualizing DateTime column---"
   ]
  },
  {
   "cell_type": "code",
   "execution_count": 12,
   "metadata": {},
   "outputs": [
    {
     "data": {
      "image/png": "[encoded data removed]",
      "text/plain": [
       "<Figure size 432x288 with 1 Axes>"
      ]
     },
     "metadata": {
      "needs_background": "light"
     },
     "output_type": "display_data"
    }
   ],
   "source": [
    "plt.plot(train['datetime'], train['Total_booking'])\n",
    "plt.show()"
   ]
  },
  {
   "cell_type": "markdown",
   "metadata": {},
   "source": [
    "### Since no insights can be drwn from the above graph.Formatting DateTime column is necessary"
   ]
  },
  {
   "cell_type": "markdown",
   "metadata": {},
   "source": [
    "# ---Formatting DateTime column---"
   ]
  },
  {
   "cell_type": "code",
   "execution_count": 8,
   "metadata": {},
   "outputs": [
    {
     "data": {
      "text/html": [
       "<div>\n",
       "<style scoped>\n",
       "    .dataframe tbody tr th:only-of-type {\n",
       "        vertical-align: middle;\n",
       "    }\n",
       "\n",
       "    .dataframe tbody tr th {\n",
       "        vertical-align: top;\n",
       "    }\n",
       "\n",
       "    .dataframe thead th {\n",
       "        text-align: right;\n",
       "    }\n",
       "</style>\n",
       "<table border=\"1\" class=\"dataframe\">\n",
       "  <thead>\n",
       "    <tr style=\"text-align: right;\">\n",
       "      <th></th>\n",
       "      <th>datetime</th>\n",
       "      <th>season</th>\n",
       "      <th>holiday</th>\n",
       "      <th>workingday</th>\n",
       "      <th>weather</th>\n",
       "      <th>temp</th>\n",
       "      <th>atemp</th>\n",
       "      <th>humidity</th>\n",
       "      <th>windspeed</th>\n",
       "      <th>Total_booking</th>\n",
       "      <th>time</th>\n",
       "      <th>year</th>\n",
       "      <th>month</th>\n",
       "    </tr>\n",
       "  </thead>\n",
       "  <tbody>\n",
       "    <tr>\n",
       "      <th>0</th>\n",
       "      <td>2012-05-02 19:00:00</td>\n",
       "      <td>Summer</td>\n",
       "      <td>0</td>\n",
       "      <td>1</td>\n",
       "      <td>Clear + Few clouds</td>\n",
       "      <td>22.14</td>\n",
       "      <td>25.760</td>\n",
       "      <td>77</td>\n",
       "      <td>16.9979</td>\n",
       "      <td>504</td>\n",
       "      <td>19</td>\n",
       "      <td>2012</td>\n",
       "      <td>5</td>\n",
       "    </tr>\n",
       "    <tr>\n",
       "      <th>1</th>\n",
       "      <td>2012-09-05 04:00:00</td>\n",
       "      <td>Fall</td>\n",
       "      <td>0</td>\n",
       "      <td>1</td>\n",
       "      <td>Clear + Few clouds</td>\n",
       "      <td>28.70</td>\n",
       "      <td>33.335</td>\n",
       "      <td>79</td>\n",
       "      <td>19.0012</td>\n",
       "      <td>5</td>\n",
       "      <td>4</td>\n",
       "      <td>2012</td>\n",
       "      <td>9</td>\n",
       "    </tr>\n",
       "  </tbody>\n",
       "</table>\n",
       "</div>"
      ],
      "text/plain": [
       "             datetime  season  holiday  workingday              weather  \\\n",
       "0 2012-05-02 19:00:00  Summer        0           1   Clear + Few clouds   \n",
       "1 2012-09-05 04:00:00    Fall        0           1   Clear + Few clouds   \n",
       "\n",
       "    temp   atemp  humidity  windspeed  Total_booking  time  year  month  \n",
       "0  22.14  25.760        77    16.9979            504    19  2012      5  \n",
       "1  28.70  33.335        79    19.0012              5     4  2012      9  "
      ]
     },
     "execution_count": 8,
     "metadata": {},
     "output_type": "execute_result"
    }
   ],
   "source": [
    "'''Converting Datetime column into three new columns - ['time','year','month'].'''\n",
    "\n",
    "train['time']=train['datetime'].apply(lambda x:str(x).split()[1])\n",
    "\n",
    "train['time']=train['time'].apply(lambda x:x[:2])\n",
    "\n",
    "train['time']=train['time'].apply(lambda x:int(x))\n",
    "\n",
    "train['year']=train['datetime'].apply(lambda x:str(x).split()[0])\n",
    "\n",
    "train['year']=train['year'].apply(lambda x:x[:4])\n",
    "\n",
    "train['year']=train['year'].apply(lambda x:int(x))\n",
    "\n",
    "train['month']=train['datetime'].apply(lambda x:str(x).split()[0])\n",
    "\n",
    "train['month']=train['month'].apply(lambda x:x[5:7])\n",
    "\n",
    "train['month']=train['month'].apply(lambda x:int(x))\n",
    "\n",
    "train.head(2)"
   ]
  },
  {
   "cell_type": "code",
   "execution_count": 14,
   "metadata": {},
   "outputs": [
    {
     "data": {
      "image/png": "[encoded data removed]",
      "text/plain": [
       "<Figure size 432x288 with 1 Axes>"
      ]
     },
     "metadata": {
      "needs_background": "light"
     },
     "output_type": "display_data"
    },
    {
     "data": {
      "text/html": [
       "<div>\n",
       "<style scoped>\n",
       "    .dataframe tbody tr th:only-of-type {\n",
       "        vertical-align: middle;\n",
       "    }\n",
       "\n",
       "    .dataframe tbody tr th {\n",
       "        vertical-align: top;\n",
       "    }\n",
       "\n",
       "    .dataframe thead th {\n",
       "        text-align: right;\n",
       "    }\n",
       "</style>\n",
       "<table border=\"1\" class=\"dataframe\">\n",
       "  <thead>\n",
       "    <tr style=\"text-align: right;\">\n",
       "      <th></th>\n",
       "      <th>time</th>\n",
       "      <th>Total_booking</th>\n",
       "    </tr>\n",
       "  </thead>\n",
       "  <tbody>\n",
       "    <tr>\n",
       "      <th>17</th>\n",
       "      <td>17</td>\n",
       "      <td>474.742466</td>\n",
       "    </tr>\n",
       "    <tr>\n",
       "      <th>18</th>\n",
       "      <td>18</td>\n",
       "      <td>428.382514</td>\n",
       "    </tr>\n",
       "    <tr>\n",
       "      <th>8</th>\n",
       "      <td>8</td>\n",
       "      <td>369.526012</td>\n",
       "    </tr>\n",
       "    <tr>\n",
       "      <th>16</th>\n",
       "      <td>16</td>\n",
       "      <td>315.207547</td>\n",
       "    </tr>\n",
       "    <tr>\n",
       "      <th>19</th>\n",
       "      <td>19</td>\n",
       "      <td>314.095109</td>\n",
       "    </tr>\n",
       "  </tbody>\n",
       "</table>\n",
       "</div>"
      ],
      "text/plain": [
       "    time  Total_booking\n",
       "17    17     474.742466\n",
       "18    18     428.382514\n",
       "8      8     369.526012\n",
       "16    16     315.207547\n",
       "19    19     314.095109"
      ]
     },
     "execution_count": 14,
     "metadata": {},
     "output_type": "execute_result"
    }
   ],
   "source": [
    "sns.barplot(x='time', y='Total_booking', data=train)\n",
    "plt.ylabel(\"Booking Rate\")\n",
    "plt.title(\"Booking as function of time\", fontsize=16)\n",
    "plt.show()\n",
    "\n",
    "train[[\"time\", \"Total_booking\"]].groupby(['time'], as_index=False).mean().sort_values(by='Total_booking', ascending=False).head()"
   ]
  },
  {
   "cell_type": "markdown",
   "metadata": {},
   "source": [
    "### The number of bookings are high during peak hours"
   ]
  },
  {
   "cell_type": "markdown",
   "metadata": {},
   "source": [
    "# ---Correlation Analysis--- "
   ]
  },
  {
   "cell_type": "code",
   "execution_count": 15,
   "metadata": {},
   "outputs": [
    {
     "data": {
      "text/plain": [
       "<matplotlib.axes._subplots.AxesSubplot at 0x1be32843ac8>"
      ]
     },
     "execution_count": 15,
     "metadata": {},
     "output_type": "execute_result"
    },
    {
     "data": {
      "image/png": "[encoded data removed]",
      "text/plain": [
       "<Figure size 720x720 with 2 Axes>"
      ]
     },
     "metadata": {
      "needs_background": "light"
     },
     "output_type": "display_data"
    }
   ],
   "source": [
    "corrmat = train.corr() \n",
    "plt.figure(figsize=(10,10))\n",
    "corr_graph = sns.heatmap(corrmat, cmap =\"Oranges\", linewidths = 0.2); \n",
    "#plt.setp(corr_graph.ax_heatmap.yaxis.get_majorticklabels(), rotation = 0)\n",
    "corr_graph"
   ]
  },
  {
   "cell_type": "markdown",
   "metadata": {},
   "source": [
    "### From the above graph, 'temp' and 'atemp' are highly correlated. We need to drop either of the columns"
   ]
  },
  {
   "cell_type": "markdown",
   "metadata": {},
   "source": [
    "# ---Feature Engineering---"
   ]
  },
  {
   "cell_type": "markdown",
   "metadata": {},
   "source": [
    "### As 'DateTime' column cannot be used, so added 'time','month' and 'year' columns"
   ]
  },
  {
   "cell_type": "code",
   "execution_count": 16,
   "metadata": {},
   "outputs": [
    {
     "data": {
      "text/plain": [
       "Index(['datetime', 'season', 'holiday', 'workingday', 'weather', 'temp',\n",
       "       'atemp', 'humidity', 'windspeed', 'Total_booking', 'time', 'year',\n",
       "       'month'],\n",
       "      dtype='object')"
      ]
     },
     "execution_count": 16,
     "metadata": {},
     "output_type": "execute_result"
    }
   ],
   "source": [
    "train.columns"
   ]
  },
  {
   "cell_type": "markdown",
   "metadata": {},
   "source": [
    "# ---Splitting X and Y columns---"
   ]
  },
  {
   "cell_type": "markdown",
   "metadata": {},
   "source": [
    "## --Creating dummy columns for categorical variables--"
   ]
  },
  {
   "cell_type": "code",
   "execution_count": 9,
   "metadata": {},
   "outputs": [
    {
     "data": {
      "text/html": [
       "<div>\n",
       "<style scoped>\n",
       "    .dataframe tbody tr th:only-of-type {\n",
       "        vertical-align: middle;\n",
       "    }\n",
       "\n",
       "    .dataframe tbody tr th {\n",
       "        vertical-align: top;\n",
       "    }\n",
       "\n",
       "    .dataframe thead th {\n",
       "        text-align: right;\n",
       "    }\n",
       "</style>\n",
       "<table border=\"1\" class=\"dataframe\">\n",
       "  <thead>\n",
       "    <tr style=\"text-align: right;\">\n",
       "      <th></th>\n",
       "      <th>datetime</th>\n",
       "      <th>holiday</th>\n",
       "      <th>workingday</th>\n",
       "      <th>temp</th>\n",
       "      <th>atemp</th>\n",
       "      <th>humidity</th>\n",
       "      <th>windspeed</th>\n",
       "      <th>Total_booking</th>\n",
       "      <th>time</th>\n",
       "      <th>year</th>\n",
       "      <th>month</th>\n",
       "      <th>season_Fall</th>\n",
       "      <th>season_Spring</th>\n",
       "      <th>season_Summer</th>\n",
       "      <th>season_Winter</th>\n",
       "      <th>weather_ Clear + Few clouds</th>\n",
       "      <th>weather_ Heavy Rain + Thunderstorm</th>\n",
       "      <th>weather_ Light Snow, Light Rain</th>\n",
       "      <th>weather_ Mist + Cloudy</th>\n",
       "    </tr>\n",
       "  </thead>\n",
       "  <tbody>\n",
       "    <tr>\n",
       "      <th>0</th>\n",
       "      <td>2012-05-02 19:00:00</td>\n",
       "      <td>0</td>\n",
       "      <td>1</td>\n",
       "      <td>22.14</td>\n",
       "      <td>25.760</td>\n",
       "      <td>77</td>\n",
       "      <td>16.9979</td>\n",
       "      <td>504</td>\n",
       "      <td>19</td>\n",
       "      <td>2012</td>\n",
       "      <td>5</td>\n",
       "      <td>0</td>\n",
       "      <td>0</td>\n",
       "      <td>1</td>\n",
       "      <td>0</td>\n",
       "      <td>1</td>\n",
       "      <td>0</td>\n",
       "      <td>0</td>\n",
       "      <td>0</td>\n",
       "    </tr>\n",
       "    <tr>\n",
       "      <th>1</th>\n",
       "      <td>2012-09-05 04:00:00</td>\n",
       "      <td>0</td>\n",
       "      <td>1</td>\n",
       "      <td>28.70</td>\n",
       "      <td>33.335</td>\n",
       "      <td>79</td>\n",
       "      <td>19.0012</td>\n",
       "      <td>5</td>\n",
       "      <td>4</td>\n",
       "      <td>2012</td>\n",
       "      <td>9</td>\n",
       "      <td>1</td>\n",
       "      <td>0</td>\n",
       "      <td>0</td>\n",
       "      <td>0</td>\n",
       "      <td>1</td>\n",
       "      <td>0</td>\n",
       "      <td>0</td>\n",
       "      <td>0</td>\n",
       "    </tr>\n",
       "  </tbody>\n",
       "</table>\n",
       "</div>"
      ],
      "text/plain": [
       "             datetime  holiday  workingday   temp   atemp  humidity  \\\n",
       "0 2012-05-02 19:00:00        0           1  22.14  25.760        77   \n",
       "1 2012-09-05 04:00:00        0           1  28.70  33.335        79   \n",
       "\n",
       "   windspeed  Total_booking  time  year  month  season_Fall  season_Spring  \\\n",
       "0    16.9979            504    19  2012      5            0              0   \n",
       "1    19.0012              5     4  2012      9            1              0   \n",
       "\n",
       "   season_Summer  season_Winter  weather_ Clear + Few clouds  \\\n",
       "0              1              0                            1   \n",
       "1              0              0                            1   \n",
       "\n",
       "   weather_ Heavy Rain + Thunderstorm   weather_ Light Snow, Light Rain  \\\n",
       "0                                    0                                0   \n",
       "1                                    0                                0   \n",
       "\n",
       "   weather_ Mist + Cloudy   \n",
       "0                        0  \n",
       "1                        0  "
      ]
     },
     "execution_count": 9,
     "metadata": {},
     "output_type": "execute_result"
    }
   ],
   "source": [
    "train=pd.get_dummies(train)\n",
    "train.head(2)"
   ]
  },
  {
   "cell_type": "code",
   "execution_count": 10,
   "metadata": {},
   "outputs": [],
   "source": [
    "x=train.drop(['datetime','Total_booking','atemp'],axis=1)\n",
    "y=train['Total_booking']"
   ]
  },
  {
   "cell_type": "markdown",
   "metadata": {},
   "source": [
    "# ---Linear Regression---"
   ]
  },
  {
   "cell_type": "code",
   "execution_count": 11,
   "metadata": {},
   "outputs": [
    {
     "name": "stdout",
     "output_type": "stream",
     "text": [
      "0.39196657479298364\n"
     ]
    }
   ],
   "source": [
    "linReg = LinearRegression()\n",
    "kfold = model_selection.KFold(n_splits=10, random_state=7)\n",
    "cv_results = model_selection.cross_val_score(linReg, x, y, cv=kfold, scoring='r2')\n",
    "print(cv_results.mean())"
   ]
  },
  {
   "cell_type": "markdown",
   "metadata": {},
   "source": [
    "# -- L1 and L2---"
   ]
  },
  {
   "cell_type": "code",
   "execution_count": 12,
   "metadata": {},
   "outputs": [
    {
     "name": "stdout",
     "output_type": "stream",
     "text": [
      "0.39196657479298364\n",
      "0.3913967632831687\n",
      "0.3919688602438741\n"
     ]
    }
   ],
   "source": [
    "from sklearn.linear_model import LinearRegression, Lasso, Ridge, LogisticRegression\n",
    "lin = LinearRegression()\n",
    "kfold = model_selection.KFold(n_splits=10, random_state=7)\n",
    "cv_results = model_selection.cross_val_score(linReg, x, y, cv=kfold, scoring='r2')\n",
    "print(cv_results.mean())\n",
    "\n",
    "las = Lasso(alpha=1)\n",
    "kfold = model_selection.KFold(n_splits=10, random_state=7)\n",
    "cv_results = model_selection.cross_val_score(las, x, y, cv=kfold, scoring='r2')\n",
    "print(cv_results.mean())\n",
    "\n",
    "rid = Ridge(alpha=1)\n",
    "kfold = model_selection.KFold(n_splits=10, random_state=7)\n",
    "cv_results = model_selection.cross_val_score(rid, x, y, cv=kfold, scoring='r2')\n",
    "print(cv_results.mean())"
   ]
  },
  {
   "cell_type": "markdown",
   "metadata": {},
   "source": [
    "# ---Feature Selection---"
   ]
  },
  {
   "cell_type": "code",
   "execution_count": 20,
   "metadata": {},
   "outputs": [
    {
     "data": {
      "text/plain": [
       "Index(['datetime', 'holiday', 'workingday', 'temp', 'atemp', 'humidity',\n",
       "       'windspeed', 'Total_booking', 'time', 'year', 'month', 'season_Fall',\n",
       "       'season_Spring', 'season_Summer', 'season_Winter',\n",
       "       'weather_ Clear + Few clouds', 'weather_ Heavy Rain + Thunderstorm ',\n",
       "       'weather_ Light Snow, Light Rain', 'weather_ Mist + Cloudy '],\n",
       "      dtype='object')"
      ]
     },
     "execution_count": 20,
     "metadata": {},
     "output_type": "execute_result"
    }
   ],
   "source": [
    "train.columns"
   ]
  },
  {
   "cell_type": "code",
   "execution_count": 21,
   "metadata": {},
   "outputs": [
    {
     "name": "stdout",
     "output_type": "stream",
     "text": [
      "[6.58467067e-03 1.64183810e-02 1.97302697e-01 2.12872002e-01\n",
      " 2.07657445e-01 2.26114278e-01 1.47814678e-02 6.98424476e-02\n",
      " 5.38672785e-03 1.67503645e-03 5.28134392e-03 4.84159321e-03\n",
      " 1.24524489e-02 6.98634476e-05 6.12270183e-03 1.25968952e-02]\n"
     ]
    },
    {
     "data": {
      "image/png": "[encoded data removed]",
      "text/plain": [
       "<Figure size 432x288 with 1 Axes>"
      ]
     },
     "metadata": {
      "needs_background": "light"
     },
     "output_type": "display_data"
    }
   ],
   "source": [
    "model = ExtraTreesClassifier()\n",
    "model.fit(x,y)\n",
    "print(model.feature_importances_)\n",
    "feat_importances = pd.Series(model.feature_importances_, index=x.columns)\n",
    "feat_importances.nlargest(22).plot(kind='barh')\n",
    "plt.show()"
   ]
  },
  {
   "cell_type": "markdown",
   "metadata": {},
   "source": [
    "### We can drop 'weather_ Heavy Rain + Thunderstorm ' as it doesn't have any importance"
   ]
  },
  {
   "cell_type": "code",
   "execution_count": 22,
   "metadata": {},
   "outputs": [
    {
     "name": "stdout",
     "output_type": "stream",
     "text": [
      "0.39196657479298364\n"
     ]
    }
   ],
   "source": [
    "x=train.drop(['datetime','Total_booking','atemp','weather_ Heavy Rain + Thunderstorm '],axis=1)\n",
    "y=train['Total_booking']\n",
    "\n",
    "# Linear Regression\n",
    "\n",
    "linReg = LinearRegression()\n",
    "kfold = model_selection.KFold(n_splits=10, random_state=7)\n",
    "cv_results = model_selection.cross_val_score(linReg, x, y, cv=kfold, scoring='r2')\n",
    "print(cv_results.mean())"
   ]
  },
  {
   "cell_type": "markdown",
   "metadata": {},
   "source": [
    "# ---Ensemble Learning---"
   ]
  },
  {
   "cell_type": "markdown",
   "metadata": {},
   "source": [
    "### Running different Regression models which use Ensemble Learning"
   ]
  },
  {
   "cell_type": "code",
   "execution_count": 23,
   "metadata": {},
   "outputs": [
    {
     "data": {
      "text/plain": [
       "Index(['datetime', 'holiday', 'workingday', 'temp', 'atemp', 'humidity',\n",
       "       'windspeed', 'time', 'year', 'month', 'season_Fall', 'season_Spring',\n",
       "       'season_Summer', 'season_Winter', 'weather_ Clear + Few clouds',\n",
       "       'weather_ Light Snow, Light Rain', 'weather_ Mist + Cloudy '],\n",
       "      dtype='object')"
      ]
     },
     "execution_count": 23,
     "metadata": {},
     "output_type": "execute_result"
    }
   ],
   "source": [
    "#Modifying Test Dateset\n",
    "test1 = test.copy()\n",
    "\n",
    "test1['time']=test1['datetime'].apply(lambda x:str(x).split()[1])\n",
    "test1['time']=test1['time'].apply(lambda x:x[:2])\n",
    "test1['time']=test1['time'].apply(lambda x:int(x))\n",
    "test1['year']=test1['datetime'].apply(lambda x:str(x).split()[0])\n",
    "test1['year']=test1['year'].apply(lambda x:x[:4])\n",
    "test1['year']=test1['year'].apply(lambda x:int(x))\n",
    "test1['month']=test1['datetime'].apply(lambda x:str(x).split()[0])\n",
    "test1['month']=test1['month'].apply(lambda x:x[5:7])\n",
    "test1['month']=test1['month'].apply(lambda x:int(x))\n",
    "\n",
    "test1 = pd.get_dummies(test1)\n",
    "\n",
    "test1.columns"
   ]
  },
  {
   "cell_type": "code",
   "execution_count": 24,
   "metadata": {},
   "outputs": [],
   "source": [
    "X_test = test1.drop(['datetime','atemp'],axis=1)\n",
    "y_test = pd.read_csv('test_label.csv',header=None)"
   ]
  },
  {
   "cell_type": "code",
   "execution_count": 25,
   "metadata": {},
   "outputs": [
    {
     "name": "stdout",
     "output_type": "stream",
     "text": [
      "r2: 0.865398577404457\n",
      "rmse_train:  66.6041713094881\n",
      "rmse_test:  68.32713811804177\n"
     ]
    }
   ],
   "source": [
    "from sklearn.ensemble import GradientBoostingRegressor\n",
    "model= GradientBoostingRegressor(random_state=1)\n",
    "model.fit(x, y)\n",
    "score=model.score(x, y)\n",
    "print(\"r2:\",score)\n",
    "\n",
    "predictions_train=model.predict(x)\n",
    "predictions_train=pd.DataFrame(predictions_train)\n",
    "predictions_train.head()\n",
    "\n",
    "rmse_train=np.sqrt(mean_squared_error(y, predictions_train))\n",
    "#print(rmse_train)\n",
    "\n",
    "predictions_test=model.predict(X_test)\n",
    "predictions_test=pd.DataFrame(predictions_test)\n",
    "predictions_test.head()\n",
    "\n",
    "rmse_test=np.sqrt(mean_squared_error(y_test, predictions_test))\n",
    "#print(rmse_test)\n",
    "\n",
    "print('rmse_train: ',rmse_train)\n",
    "print('rmse_test: ',rmse_test)"
   ]
  },
  {
   "cell_type": "code",
   "execution_count": 26,
   "metadata": {},
   "outputs": [
    {
     "name": "stdout",
     "output_type": "stream",
     "text": [
      "[23:28:03] WARNING: C:/Jenkins/workspace/xgboost-win64_release_0.90/src/objective/regression_obj.cu:152: reg:linear is now deprecated in favor of reg:squarederror.\n",
      "r2: 0.8611497738804004\n",
      "rmse_train:  67.6472116103476\n",
      "rmse_test:  70.14894348187643\n"
     ]
    }
   ],
   "source": [
    "import xgboost as xgb\n",
    "model=xgb.XGBRegressor(random_state=1)\n",
    "model.fit(x, y)\n",
    "score=model.score(x, y)\n",
    "print(\"r2:\",score)\n",
    "\n",
    "predictions_train=model.predict(x)\n",
    "predictions_train=pd.DataFrame(predictions_train)\n",
    "predictions_train.head()\n",
    "\n",
    "rmse_train=np.sqrt(mean_squared_error(y, predictions_train))\n",
    "#print(rmse_train)\n",
    "\n",
    "predictions_test=model.predict(X_test)\n",
    "predictions_test=pd.DataFrame(predictions_test)\n",
    "predictions_test.head()\n",
    "\n",
    "rmse_test=np.sqrt(mean_squared_error(y_test, predictions_test))\n",
    "#print(rmse_test)\n",
    "\n",
    "print('rmse_train: ',rmse_train)\n",
    "print('rmse_test: ',rmse_test)"
   ]
  },
  {
   "cell_type": "code",
   "execution_count": 27,
   "metadata": {},
   "outputs": [
    {
     "name": "stdout",
     "output_type": "stream",
     "text": [
      "r2:  0.9880679498962316\n",
      "rmse_train:  19.83052163692674\n",
      "rmse_test:  45.64633638103066\n"
     ]
    }
   ],
   "source": [
    "from sklearn.ensemble import RandomForestRegressor\n",
    "model= RandomForestRegressor(random_state=1)\n",
    "model.fit(x, y)\n",
    "score=model.score(x, y)\n",
    "print(\"r2: \",score)\n",
    "\n",
    "predictions_train=model.predict(x)\n",
    "predictions_train=pd.DataFrame(predictions_train)\n",
    "\n",
    "rmse_train=np.sqrt(mean_squared_error(y, predictions_train))\n",
    "\n",
    "predictions_test=model.predict(X_test)\n",
    "predictions_test=pd.DataFrame(predictions_test)\n",
    "\n",
    "\n",
    "#print(np.sqrt(metrics.mean_squared_error(y_test, y_pred)))\n",
    "rmse_test=np.sqrt(mean_squared_error(y_test, predictions_test))\n",
    "\n",
    "print('rmse_train: ',rmse_train)\n",
    "print('rmse_test: ',rmse_test)"
   ]
  },
  {
   "attachments": {
    "image.png": {
     "image/png": "[encoded data removed]"
    }
   },
   "cell_type": "markdown",
   "metadata": {},
   "source": [
    "### Gradient Boosting, XG Boosting and RandomForest Results\n",
    "![image.png](attachment:image.png)"
   ]
  },
  {
   "cell_type": "markdown",
   "metadata": {},
   "source": [
    "### From the above table we can conclude that Random Forest Regressor is overfitting the data. Hence final model is \"Gradient Boosting Model\""
   ]
  },
  {
   "cell_type": "markdown",
   "metadata": {},
   "source": [
    "#  ---Outlier Analysis---"
   ]
  },
  {
   "cell_type": "code",
   "execution_count": 28,
   "metadata": {},
   "outputs": [
    {
     "name": "stdout",
     "output_type": "stream",
     "text": [
      "temp\n",
      "-3.1974618482995787\n",
      "43.68350227089954\n",
      "[]\n",
      "----------------------------------------\n",
      "atemp\n",
      "-1.8477677762246145\n",
      "49.15887135913707\n",
      "[]\n",
      "----------------------------------------\n",
      "humidity\n",
      "4.050440630479663\n",
      "119.24790571770592\n",
      "[0, 0, 0, 0, 0, 0, 0, 0, 0, 0, 0, 0, 0, 0, 0, 0, 0, 0]\n",
      "----------------------------------------\n",
      "windspeed\n",
      "-11.727051454817166\n",
      "37.41483298903901\n",
      "[47.9988, 39.0007, 43.9989, 39.0007, 43.9989, 39.0007, 39.0007, 43.9989, 39.0007, 43.0006, 39.0007, 39.0007, 43.0006, 39.0007, 43.0006, 39.0007, 39.0007, 39.0007, 39.0007, 43.9989, 56.9969, 39.0007, 40.9973, 46.0022, 51.9987, 40.9973, 39.0007, 43.9989, 47.9988, 39.0007, 39.0007, 39.0007, 39.0007, 39.0007, 43.0006, 43.0006, 43.9989, 46.0022, 40.9973, 40.9973, 43.9989, 39.0007, 50.0021, 39.0007, 40.9973, 46.0022, 39.0007, 43.0006]\n",
      "----------------------------------------\n"
     ]
    }
   ],
   "source": [
    "def find_outliers(data,column_name):\n",
    "    # Set upper and lower limit to 3 standard deviation\n",
    "    data_std = data[column_name].std()\n",
    "    data_mean = np.mean(data[column_name])\n",
    "    outliers_cut_off = data_std * 3\n",
    "    \n",
    "    lower_limit  = data_mean - outliers_cut_off \n",
    "    upper_limit = data_mean + outliers_cut_off\n",
    "    print(column_name)\n",
    "    print(lower_limit)\n",
    "    print(upper_limit)\n",
    "    \n",
    "    # Generate outliers\n",
    "    outliers=[]\n",
    "    index_outliers=[]\n",
    "    for outlier in data[column_name]:\n",
    "        if outlier > upper_limit or outlier < lower_limit:\n",
    "            outliers.append(outlier)\n",
    "    \n",
    "    print(outliers)\n",
    "    print('----------------------------------------')\n",
    "\n",
    "column=['temp','atemp', 'humidity','windspeed']\n",
    "for clm in column:\n",
    "    find_outliers(train,clm)"
   ]
  },
  {
   "cell_type": "code",
   "execution_count": 29,
   "metadata": {},
   "outputs": [],
   "source": [
    "#If you observe the above output 'Windspeed' has Outliers. So, Removing outliers will increase the accuracy of the model.\n",
    "windspeed_mean=np.mean(train['windspeed'])\n",
    "windspeed_std = train['windspeed'].std()\n",
    "outliers_cut_off=windspeed_std * 3\n",
    "lower_limit  = windspeed_mean - outliers_cut_off \n",
    "upper_limit = windspeed_mean + outliers_cut_off\n",
    "\n",
    "train['windspeed'] = train['windspeed'].apply(lambda x : windspeed_mean if x >= upper_limit or x < lower_limit else x )"
   ]
  },
  {
   "cell_type": "code",
   "execution_count": 30,
   "metadata": {},
   "outputs": [],
   "source": [
    "x=train.drop(['datetime','Total_booking','atemp','weather_ Heavy Rain + Thunderstorm '],axis=1)\n",
    "y=train['Total_booking']"
   ]
  },
  {
   "cell_type": "code",
   "execution_count": 31,
   "metadata": {},
   "outputs": [
    {
     "name": "stdout",
     "output_type": "stream",
     "text": [
      "r2: 0.9171454692501145\n",
      "rmse_train:  52.25582819519139\n",
      "rmse_test:  53.924564710227266\n"
     ]
    }
   ],
   "source": [
    "from sklearn.ensemble import GradientBoostingRegressor\n",
    "model= GradientBoostingRegressor(random_state=1 , n_estimators = 250 , learning_rate = 0.1 )\n",
    "model.fit(x, y)\n",
    "score=model.score(x, y)\n",
    "print(\"r2:\",score)\n",
    "\n",
    "predictions_train=model.predict(x)\n",
    "predictions_train=pd.DataFrame(predictions_train)\n",
    "predictions_train.head()\n",
    "\n",
    "rmse_train=np.sqrt(mean_squared_error(y, predictions_train))\n",
    "#print(rmse_train)\n",
    "\n",
    "predictions_test=model.predict(X_test)\n",
    "predictions_test=pd.DataFrame(predictions_test)\n",
    "predictions_test.head()\n",
    "\n",
    "rmse_test=np.sqrt(mean_squared_error(y_test, predictions_test))\n",
    "#print(rmse_test)\n",
    "\n",
    "print('rmse_train: ',rmse_train)\n",
    "print('rmse_test: ',rmse_test)"
   ]
  },
  {
   "cell_type": "code",
   "execution_count": 32,
   "metadata": {},
   "outputs": [],
   "source": [
    "estimators = np.arange(200,2000,25)"
   ]
  },
  {
   "cell_type": "code",
   "execution_count": 33,
   "metadata": {},
   "outputs": [],
   "source": [
    "search_grid={'n_estimators':[500,1000,2000],'learning_rate':[.001,0.01,.1],'random_state':[1]}\n",
    "search=GridSearchCV(estimator=model,param_grid=search_grid,scoring='neg_mean_squared_error',n_jobs=1)"
   ]
  },
  {
   "cell_type": "code",
   "execution_count": 34,
   "metadata": {},
   "outputs": [
    {
     "data": {
      "text/plain": [
       "{'learning_rate': 0.1, 'n_estimators': 2000, 'random_state': 1}"
      ]
     },
     "execution_count": 34,
     "metadata": {},
     "output_type": "execute_result"
    }
   ],
   "source": [
    "search.fit(x,y)\n",
    "search.best_params_"
   ]
  },
  {
   "cell_type": "code",
   "execution_count": 35,
   "metadata": {},
   "outputs": [
    {
     "name": "stdout",
     "output_type": "stream",
     "text": [
      "r2: 0.9572648529871944\n",
      "rmse_train:  37.52919123581203\n",
      "rmse_test:  46.3788228185838\n"
     ]
    }
   ],
   "source": [
    "from sklearn.ensemble import GradientBoostingRegressor\n",
    "model= GradientBoostingRegressor(random_state=1 , n_estimators = 2000 , learning_rate = 0.1 )\n",
    "model.fit(x, y)\n",
    "score=model.score(x, y)\n",
    "print(\"r2:\",score)\n",
    "\n",
    "predictions_train=model.predict(x)\n",
    "predictions_train=pd.DataFrame(predictions_train)\n",
    "predictions_train.head()\n",
    "\n",
    "rmse_train=np.sqrt(mean_squared_error(y, predictions_train))\n",
    "#print(rmse_train)\n",
    "\n",
    "predictions_test=model.predict(X_test)\n",
    "predictions_test=pd.DataFrame(predictions_test)\n",
    "predictions_test.head()\n",
    "\n",
    "rmse_test=np.sqrt(mean_squared_error(y_test, predictions_test))\n",
    "#print(rmse_test)\n",
    "\n",
    "print('rmse_train: ',rmse_train)\n",
    "print('rmse_test: ',rmse_test)"
   ]
  },
  {
   "cell_type": "markdown",
   "metadata": {},
   "source": [
    "# Conclusion"
   ]
  },
  {
   "cell_type": "markdown",
   "metadata": {},
   "source": [
    "\n",
    "* After Visualing the Dataset , it was found that 'datetime' column has no use in training the model. But 'time of the day',\n",
    "  'Month','Year' individually made much differnce in training the model.\n",
    "* Columns - ['temp','atemp'] are highly correlated. Since these are independent variables, removed 'temp' column.\n",
    "* From all the models, GradientBoostingRegressor is found to be the best with 95% 'r2 score' and relatively low difference in \n",
    "  training and test MSE rates.\n",
    "* Although 'r2 score' is high for RandomForestRegressor, it overfits the model as there is high difference between Train and\n",
    "  Test MSE.\n",
    "* Hyperparameter tuning for GradientBoostingRegressor has been done using GridSearchCv with n_estimators ranging from [200,2000] and learning rate ranging from [.001,0.01,.1] and with a random_state of 1.\n",
    "* Best Hyperparamters for the model are found to be n_estimators = 2000 , learning_rate = 0.1 , random_state = 1."
   ]
  },
  {
   "cell_type": "code",
   "execution_count": null,
   "metadata": {},
   "outputs": [],
   "source": []
  }
 ],
 "metadata": {
  "kernelspec": {
   "display_name": "Python 3",
   "language": "python",
   "name": "python3"
  },
  "language_info": {
   "codemirror_mode": {
    "name": "ipython",
    "version": 3
   },
   "file_extension": ".py",
   "mimetype": "text/x-python",
   "name": "python",
   "nbconvert_exporter": "python",
   "pygments_lexer": "ipython3",
   "version": "3.7.1"
  }
 },
 "nbformat": 4,
 "nbformat_minor": 2
}
